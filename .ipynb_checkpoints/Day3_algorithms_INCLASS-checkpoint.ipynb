{
 "cells": [
  {
   "cell_type": "markdown",
   "metadata": {},
   "source": [
    "# Algorithms, Binary Search & Linked Lists"
   ]
  },
  {
   "cell_type": "markdown",
   "metadata": {},
   "source": [
    "## Tasks Today:\n",
    " \n",
    "1) <b>In-Place Algorithms</b> <br>\n",
    " &nbsp;&nbsp;&nbsp;&nbsp; a) Syntax <br>\n",
    " &nbsp;&nbsp;&nbsp;&nbsp; a) Out of Place Algorithm <br>\n",
    " &nbsp;&nbsp;&nbsp;&nbsp; b) In-Class Exercise #1 <br>\n",
    "2) <b>Two Pointers</b> <br>\n",
    "3) <b>Linked Lists</b> <br>\n",
    "4) <b>Merge Sort</b> <br>\n",
    " &nbsp;&nbsp;&nbsp;&nbsp; a) Video on Algorithms <br>\n",
    " &nbsp;&nbsp;&nbsp;&nbsp; b) How it Works <br>\n",
    "5) <b>Exercises</b> <br>\n",
    " &nbsp;&nbsp;&nbsp;&nbsp; a) Exercise #1 - Reverse a List in Place Using an In-Place Algorithm <br>\n",
    " &nbsp;&nbsp;&nbsp;&nbsp; b) Exercise #2 - Find Distinct Words <br>\n",
    " &nbsp;&nbsp;&nbsp;&nbsp; c) Exercise #3 - Write a program to implement a Linear Search Algorithm. <br>"
   ]
  },
  {
   "cell_type": "markdown",
   "metadata": {},
   "source": [
    "## In-Place Algorithms"
   ]
  },
  {
   "cell_type": "markdown",
   "metadata": {},
   "source": [
    "#### Syntax"
   ]
  },
  {
   "cell_type": "code",
   "execution_count": 7,
   "metadata": {},
   "outputs": [
    {
     "name": "stdout",
     "output_type": "stream",
     "text": [
      "Before swap: [1, 11, 22, 34]\n",
      "afterswap: [1, 34, 22, 11]\n",
      "Output: None\n"
     ]
    }
   ],
   "source": [
    "# swap algorithm\n",
    "def swap(nums,i1,i2):\n",
    "    nums[i1], nums[i2] = nums[i2], nums[i1]\n",
    "    # temp = nums[i1]\n",
    "    # nums[i1] = nums[i2]\n",
    "    # nums[i2] = temp\n",
    "    \n",
    "l1= [1,11,22,34]\n",
    "print(f'Before swap: {l1}')\n",
    "output = swap(l1,1,3)\n",
    "print(f'afterswap: {l1}')\n",
    "print(f'Output: {output}')"
   ]
  },
  {
   "cell_type": "markdown",
   "metadata": {},
   "source": [
    "#### Out of Place Algorithm"
   ]
  },
  {
   "cell_type": "code",
   "execution_count": 8,
   "metadata": {},
   "outputs": [
    {
     "name": "stdout",
     "output_type": "stream",
     "text": [
      "Before swap: [1, 11, 22, 34]\n",
      "afterswap: [1, 11, 22, 34]\n",
      "Output: [1, 34, 22, 11]\n"
     ]
    }
   ],
   "source": [
    "def swap(nums,i1,i2):\n",
    "    copy =nums[:]\n",
    "    copy[i1], copy[i2] = copy[i2], copy[i1]\n",
    "    return copy\n",
    "\n",
    "\n",
    "l1= [1,11,22,34]\n",
    "print(f'Before swap: {l1}')\n",
    "output = swap(l1,1,3)\n",
    "print(f'afterswap: {l1}')\n",
    "print(f'Output: {output}')\n"
   ]
  },
  {
   "cell_type": "markdown",
   "metadata": {},
   "source": [
    "#### In-Class Exercise #1 <br>\n",
    "<p>Write a function that takes in four arguments (list, index1, index2, index3), and swaps those three positions in the list passed in.</p>"
   ]
  },
  {
   "cell_type": "code",
   "execution_count": 14,
   "metadata": {},
   "outputs": [
    {
     "name": "stdout",
     "output_type": "stream",
     "text": [
      "[2, 4, 3, 10, 4, 8, 6]\n"
     ]
    }
   ],
   "source": [
    "l_1 = [10, 4, 3, 8, 4, 2, 6]\n",
    "\n",
    "def swap(l1,index1,index2,index3):\n",
    "    l1[index1], l1[index2],l1[index3] = l1[index3], l1[index1], l1[index2]\n",
    "    \n",
    "swap(l_1,0,3,5)\n",
    "print(l_1)\n"
   ]
  },
  {
   "cell_type": "markdown",
   "metadata": {},
   "source": [
    "## Two Pointers"
   ]
  },
  {
   "cell_type": "markdown",
   "metadata": {},
   "source": [
    "#### Syntax"
   ]
  },
  {
   "cell_type": "code",
   "execution_count": 16,
   "metadata": {},
   "outputs": [
    {
     "name": "stdout",
     "output_type": "stream",
     "text": [
      "[40, 30, 20, 10, 5, 4, 3, 2, 1]\n"
     ]
    }
   ],
   "source": [
    "# use two pointers to swap, can use a while loop in most cases\n",
    "def swap(nums,i1,i2):\n",
    "    nums[i1],nums[i2] = nums[i2], nums[i1]\n",
    "\n",
    "def reverseTwoPointer(nums):\n",
    "    #create the pointers\n",
    "    left = 0\n",
    "    right = len(nums)-1\n",
    "    # when do our pointers move / stop moving\n",
    "    while left < right:\n",
    "        swap(nums, left, right)\n",
    "        left += 1\n",
    "        right -=1\n",
    "list2 = [1,2,3,4,5,10,20,30,40]\n",
    "\n",
    "reverseTwoPointer(list2)\n",
    "\n",
    "print(list2)"
   ]
  },
  {
   "cell_type": "markdown",
   "metadata": {},
   "source": [
    "#### Video of Algorithms <br>\n",
    "<p>Watch the video about algorithms.</p>\n",
    "\n",
    "https://www.youtube.com/watch?v=Q9HjeFD62Uk\n",
    "\n",
    "https://www.youtube.com/watch?v=kPRA0W1kECg\n",
    "\n",
    "https://www.youtube.com/watch?v=ZZuD6iUe3Pc"
   ]
  },
  {
   "cell_type": "markdown",
   "metadata": {},
   "source": [
    "# Sorting Algorithms"
   ]
  },
  {
   "cell_type": "markdown",
   "metadata": {},
   "source": [
    "#### Bubble Sort\n",
    "\n",
    "Worst Case: O(n^2) Time - O(1) Space"
   ]
  },
  {
   "cell_type": "code",
   "execution_count": 21,
   "metadata": {},
   "outputs": [
    {
     "name": "stdout",
     "output_type": "stream",
     "text": [
      "[1, 5, 11, 9, 20, 100, 2, 191]\n"
     ]
    }
   ],
   "source": [
    "def swap(nums,i1,i2):\n",
    "    nums[i1],nums[i2]= nums[i2], nums[i1]\n",
    "    \n",
    "def bubbleSort(nums):\n",
    "    isSorted = False\n",
    "    count = 0\n",
    "    while not isSorted:\n",
    "        isSorted = True\n",
    "    for i in range(len(nums)-1-count):\n",
    "        if nums[i] > nums[i+1]:\n",
    "            swap(nums,i, i+1)\n",
    "            isSorted = False\n",
    "        count += 1 \n",
    "        \n",
    "        \n",
    "l1=[1,5,11,20,9,100,191,2]\n",
    "\n",
    "bubbleSort(l1)\n",
    "print(l1)"
   ]
  },
  {
   "cell_type": "markdown",
   "metadata": {},
   "source": [
    "##### Insertion Sort\n",
    "\n",
    "Worst Case: O(n^2) time - O(1)space"
   ]
  },
  {
   "cell_type": "code",
   "execution_count": null,
   "metadata": {},
   "outputs": [],
   "source": [
    "def swap(nums, i1,i2):\n",
    "    nums[i1],nums[i2]= nums[i2], nums[i1]\n",
    "def insertionSort(nums):\n",
    "    for i in range(1,len(nums)):\n",
    "        j = i\n",
    "        while i >0 and nums[i] < nums[i-1]:\n",
    "            swap(nums,j,j-1)\n",
    "            j -=1\n",
    "            \n",
    "        \n",
    "l1 = [1,5,-2,200,11,20,9,100,]"
   ]
  },
  {
   "cell_type": "markdown",
   "metadata": {},
   "source": [
    "\n",
    "## Merge Sort"
   ]
  },
  {
   "cell_type": "markdown",
   "metadata": {},
   "source": [
    "#### How it Works"
   ]
  },
  {
   "cell_type": "code",
   "execution_count": 22,
   "metadata": {},
   "outputs": [
    {
     "name": "stdout",
     "output_type": "stream",
     "text": [
      "[-2, 1, 2, 5, 9, 11, 20, 100, 191, 200]\n"
     ]
    }
   ],
   "source": [
    "# step 1: split everything into its own group\n",
    "#step2: from left to right, merge groups together\n",
    "# step 3:while merging, place items into correct position\n",
    "# step 4: repeat\n",
    "\n",
    "def mergeSort(nums):\n",
    "    # step 1: divid the list into equal parts(as evenly as possible)\n",
    "    if len(nums)> 1:\n",
    "        mid = len(nums)//2\n",
    "        lefthalf = nums[:mid]\n",
    "        righthalf = nums[mid:]\n",
    "        \n",
    "        #recursively repeat mergeSort to continue splitting\n",
    "        mergeSort(lefthalf)\n",
    "        mergeSort(righthalf)\n",
    "        #index pointer for our lists\n",
    "        i = 0\n",
    "        j = 0\n",
    "        k = 0\n",
    "        \n",
    "        #step 2:compare left and right halves\n",
    "        while i <len(lefthalf) and j < len(righthalf):\n",
    "            if lefthalf[i] < righthalf[j]:\n",
    "                nums[k] = lefthalf[i]\n",
    "                i += 1\n",
    "            else:\n",
    "                nums[k] = righthalf[j]\n",
    "                j += 1\n",
    "            k += 1\n",
    "            \n",
    "        #step 3: \n",
    "        while i< len(lefthalf):\n",
    "            nums[k] = lefthalf[i]\n",
    "            i += 1\n",
    "            k += 1\n",
    "        while j < len(righthalf):\n",
    "            nums[k] = righthalf[j]\n",
    "            j += 1\n",
    "            k +=1\n",
    "            \n",
    "l1 = [1,5,-2,200,11,20,9,100,191,2]\n",
    "mergeSort(l1)\n",
    "print(l1)"
   ]
  },
  {
   "cell_type": "markdown",
   "metadata": {},
   "source": [
    "# Binary Search\n",
    "\n",
    "The Binary Search algorithm works by finding the number in the middle of a given array and comparing it to the target. Given that the array is sorted\n",
    "\n",
    "* The worst case run time for this algorithm is `O(log(n))`"
   ]
  },
  {
   "cell_type": "code",
   "execution_count": 26,
   "metadata": {},
   "outputs": [
    {
     "data": {
      "text/plain": [
       "'I FOUND 13 at index 9'"
      ]
     },
     "execution_count": 26,
     "metadata": {},
     "output_type": "execute_result"
    }
   ],
   "source": [
    "# what you are looking through MUST BE SORTED \n",
    "def binarySearch(nums, target):\n",
    "    left = 0 \n",
    "    right = len(nums)-1\n",
    "    while left <= right:\n",
    "        middle = (left+right) // 2\n",
    "        guess = nums[middle]\n",
    "        if target == guess:\n",
    "            return f'I FOUND {target} at index {middle}'\n",
    "        elif target < guess:\n",
    "            #right should move\n",
    "            right = middle - 1 \n",
    "        elif target > guess:\n",
    "            left = middle + 1\n",
    "    return 'What you are looking for does not exist'\n",
    "        \n",
    "binarySearch([1,2,3,4,5,6,7,10,11,13,22,33,44,55,66,77,100],13)\n"
   ]
  },
  {
   "cell_type": "markdown",
   "metadata": {},
   "source": [
    "# Exercises"
   ]
  },
  {
   "cell_type": "markdown",
   "metadata": {},
   "source": [
    "### Exercise #1 <br>\n",
    "<p>Reverse the list below in-place using an in-place algorithm.<br>For extra credit: Reverse the strings at the same time.</p>"
   ]
  },
  {
   "cell_type": "code",
   "execution_count": 43,
   "metadata": {},
   "outputs": [
    {
     "name": "stdout",
     "output_type": "stream",
     "text": [
      "['this', 'is', 'a', 'sentence', '.']\n"
     ]
    },
    {
     "data": {
      "text/plain": [
       "['.', 'sentence', 'a', 'is', 'this']"
      ]
     },
     "execution_count": 43,
     "metadata": {},
     "output_type": "execute_result"
    }
   ],
   "source": [
    "words = ['this' , 'is', 'a', 'sentence', '.']\n",
    "def backwards(alist):\n",
    "    left = 0\n",
    "    right = len(alist) - 1\n",
    "    while left <= right:\n",
    "        alist[left], alist[right] = alist[right], alist[left]\n",
    "        left += 1\n",
    "        right-=1\n",
    "    return alist\n",
    "\n",
    "print(words)\n",
    "backwards(words)\n"
   ]
  },
  {
   "cell_type": "markdown",
   "metadata": {},
   "source": [
    "### Exercise #2 <br>\n",
    "<p>Create a function that counts how many distinct words are in the string below, then outputs a dictionary with the words as the key and the value as the amount of times that word appears in the string.<br>Should output:<br>{'a': 5,<br>\n",
    " 'abstract': 1,<br>\n",
    " 'an': 3,<br>\n",
    " 'array': 2, ... etc...</p>"
   ]
  },
  {
   "cell_type": "code",
   "execution_count": 41,
   "metadata": {},
   "outputs": [
    {
     "data": {
      "text/plain": [
       "{'a': 5,\n",
       " 'abstract': 1,\n",
       " 'an': 3,\n",
       " 'array': 2,\n",
       " 'associative': 1,\n",
       " 'be': 1,\n",
       " 'buckets': 1,\n",
       " 'can': 2,\n",
       " 'compute': 1,\n",
       " 'computing,': 1,\n",
       " 'data': 2,\n",
       " 'desired': 1,\n",
       " 'found': 1,\n",
       " 'from': 1,\n",
       " 'function': 1,\n",
       " 'hash': 4,\n",
       " 'implements': 1,\n",
       " 'in': 1,\n",
       " 'index': 1,\n",
       " 'into': 1,\n",
       " 'is': 1,\n",
       " 'keys': 1,\n",
       " 'map': 2,\n",
       " 'of': 1,\n",
       " 'or': 1,\n",
       " 'slots': 1,\n",
       " 'structure': 2,\n",
       " 'table': 2,\n",
       " 'that': 1,\n",
       " 'the': 1,\n",
       " 'to': 2,\n",
       " 'type,': 1,\n",
       " 'uses': 1,\n",
       " 'value': 1,\n",
       " 'values.': 1,\n",
       " 'which': 2}"
      ]
     },
     "execution_count": 41,
     "metadata": {},
     "output_type": "execute_result"
    }
   ],
   "source": [
    "a_text = 'In computing, a hash table hash map is a data structure which implements an associative array abstract data type, a structure that can map keys to values. A hash table uses a hash function to compute an index into an array of buckets or slots from which the desired value can be found'\n",
    "\n",
    "\n",
    "def countWords(string):\n",
    "    \n",
    "    dict = {}\n",
    "    words = sorted(a_text.lower().split())\n",
    "    \n",
    "    for i in words:\n",
    "        dict[i] = words.count(i)\n",
    "\n",
    "        \n",
    "    return dict\n",
    "\n",
    "countWords(a_text)\n",
    "\n",
    "                \n",
    "            \n"
   ]
  },
  {
   "cell_type": "markdown",
   "metadata": {},
   "source": [
    "## Exercise #3\n",
    "\n",
    "Write a program to implement a Linear Search Algorithm. Also in a comment, write the Time Complexity of the following algorithm.\n",
    "\n",
    "#### Hint: Linear Searching will require searching a list for a given number. "
   ]
  },
  {
   "cell_type": "code",
   "execution_count": 44,
   "metadata": {},
   "outputs": [
    {
     "name": "stdout",
     "output_type": "stream",
     "text": [
      "4\n"
     ]
    }
   ],
   "source": [
    "def linear_search(num,list):\n",
    "    for index in range(len(list)):\n",
    "        if list[index] == num:\n",
    "            return index\n",
    "    return -1 \n",
    "\n",
    "\n",
    "numbers = [1,2,23,34,42,19,49]\n",
    "print(linear_search(42,numbers))\n",
    "\n"
   ]
  }
 ],
 "metadata": {
  "kernelspec": {
   "display_name": "Python 3 (ipykernel)",
   "language": "python",
   "name": "python3"
  },
  "language_info": {
   "codemirror_mode": {
    "name": "ipython",
    "version": 3
   },
   "file_extension": ".py",
   "mimetype": "text/x-python",
   "name": "python",
   "nbconvert_exporter": "python",
   "pygments_lexer": "ipython3",
   "version": "3.9.12"
  }
 },
 "nbformat": 4,
 "nbformat_minor": 2
}
